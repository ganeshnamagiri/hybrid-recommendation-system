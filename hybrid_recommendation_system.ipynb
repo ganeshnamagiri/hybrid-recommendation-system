{
 "cells": [
  {
   "cell_type": "code",
   "execution_count": 1,
   "metadata": {},
   "outputs": [],
   "source": [
    "import pandas as pd\n",
    "\n",
    "# Use the below command for surpise moduel instllation instead of pip\n",
    "# !conda install -c conda-forge scikit-surprise\n",
    "from surprise import Dataset, Reader, SVD\n",
    "from sklearn.feature_extraction.text import TfidfVectorizer\n",
    "from sklearn.metrics.pairwise import linear_kernel"
   ]
  },
  {
   "attachments": {},
   "cell_type": "markdown",
   "metadata": {},
   "source": [
    "### Data"
   ]
  },
  {
   "cell_type": "code",
   "execution_count": 2,
   "metadata": {},
   "outputs": [
    {
     "data": {
      "text/html": [
       "<div>\n",
       "<style scoped>\n",
       "    .dataframe tbody tr th:only-of-type {\n",
       "        vertical-align: middle;\n",
       "    }\n",
       "\n",
       "    .dataframe tbody tr th {\n",
       "        vertical-align: top;\n",
       "    }\n",
       "\n",
       "    .dataframe thead th {\n",
       "        text-align: right;\n",
       "    }\n",
       "</style>\n",
       "<table border=\"1\" class=\"dataframe\">\n",
       "  <thead>\n",
       "    <tr style=\"text-align: right;\">\n",
       "      <th></th>\n",
       "      <th>User ID</th>\n",
       "      <th>Product ID</th>\n",
       "      <th>Product Name</th>\n",
       "      <th>Brand</th>\n",
       "      <th>Category</th>\n",
       "      <th>Price</th>\n",
       "      <th>Rating</th>\n",
       "      <th>Color</th>\n",
       "      <th>Size</th>\n",
       "    </tr>\n",
       "  </thead>\n",
       "  <tbody>\n",
       "    <tr>\n",
       "      <th>0</th>\n",
       "      <td>19</td>\n",
       "      <td>1</td>\n",
       "      <td>Dress</td>\n",
       "      <td>Adidas</td>\n",
       "      <td>Men's Fashion</td>\n",
       "      <td>40</td>\n",
       "      <td>1.043159</td>\n",
       "      <td>Black</td>\n",
       "      <td>XL</td>\n",
       "    </tr>\n",
       "    <tr>\n",
       "      <th>1</th>\n",
       "      <td>97</td>\n",
       "      <td>2</td>\n",
       "      <td>Shoes</td>\n",
       "      <td>H&amp;M</td>\n",
       "      <td>Women's Fashion</td>\n",
       "      <td>82</td>\n",
       "      <td>4.026416</td>\n",
       "      <td>Black</td>\n",
       "      <td>L</td>\n",
       "    </tr>\n",
       "    <tr>\n",
       "      <th>2</th>\n",
       "      <td>25</td>\n",
       "      <td>3</td>\n",
       "      <td>Dress</td>\n",
       "      <td>Adidas</td>\n",
       "      <td>Women's Fashion</td>\n",
       "      <td>44</td>\n",
       "      <td>3.337938</td>\n",
       "      <td>Yellow</td>\n",
       "      <td>XL</td>\n",
       "    </tr>\n",
       "    <tr>\n",
       "      <th>3</th>\n",
       "      <td>57</td>\n",
       "      <td>4</td>\n",
       "      <td>Shoes</td>\n",
       "      <td>Zara</td>\n",
       "      <td>Men's Fashion</td>\n",
       "      <td>23</td>\n",
       "      <td>1.049523</td>\n",
       "      <td>White</td>\n",
       "      <td>S</td>\n",
       "    </tr>\n",
       "    <tr>\n",
       "      <th>4</th>\n",
       "      <td>79</td>\n",
       "      <td>5</td>\n",
       "      <td>T-shirt</td>\n",
       "      <td>Adidas</td>\n",
       "      <td>Men's Fashion</td>\n",
       "      <td>79</td>\n",
       "      <td>4.302773</td>\n",
       "      <td>Black</td>\n",
       "      <td>M</td>\n",
       "    </tr>\n",
       "  </tbody>\n",
       "</table>\n",
       "</div>"
      ],
      "text/plain": [
       "   User ID  Product ID Product Name   Brand         Category  Price    Rating  \\\n",
       "0       19           1        Dress  Adidas    Men's Fashion     40  1.043159   \n",
       "1       97           2        Shoes     H&M  Women's Fashion     82  4.026416   \n",
       "2       25           3        Dress  Adidas  Women's Fashion     44  3.337938   \n",
       "3       57           4        Shoes    Zara    Men's Fashion     23  1.049523   \n",
       "4       79           5      T-shirt  Adidas    Men's Fashion     79  4.302773   \n",
       "\n",
       "    Color Size  \n",
       "0   Black   XL  \n",
       "1   Black    L  \n",
       "2  Yellow   XL  \n",
       "3   White    S  \n",
       "4   Black    M  "
      ]
     },
     "execution_count": 2,
     "metadata": {},
     "output_type": "execute_result"
    }
   ],
   "source": [
    "data = pd.read_csv('./fashion_products/fashion_products.csv')\n",
    "data.head()"
   ]
  },
  {
   "attachments": {},
   "cell_type": "markdown",
   "metadata": {},
   "source": [
    "Our goal is to create two recommendation systems using collaborative and content-based filtering and then combine the recommendation techniques to build a recommendation system using a hybrid approach."
   ]
  },
  {
   "attachments": {},
   "cell_type": "markdown",
   "metadata": {},
   "source": [
    "### Content-Based Filtering"
   ]
  },
  {
   "cell_type": "code",
   "execution_count": 3,
   "metadata": {},
   "outputs": [
    {
     "name": "stderr",
     "output_type": "stream",
     "text": [
      "C:\\Users\\05550X744\\AppData\\Local\\Temp\\ipykernel_19168\\3211205406.py:2: SettingWithCopyWarning: \n",
      "A value is trying to be set on a copy of a slice from a DataFrame.\n",
      "Try using .loc[row_indexer,col_indexer] = value instead\n",
      "\n",
      "See the caveats in the documentation: https://pandas.pydata.org/pandas-docs/stable/user_guide/indexing.html#returning-a-view-versus-a-copy\n",
      "  content_df['Content'] = content_df.apply(lambda row: ' '.join(row.dropna().astype(str)), axis=1)\n"
     ]
    },
    {
     "data": {
      "text/html": [
       "<div>\n",
       "<style scoped>\n",
       "    .dataframe tbody tr th:only-of-type {\n",
       "        vertical-align: middle;\n",
       "    }\n",
       "\n",
       "    .dataframe tbody tr th {\n",
       "        vertical-align: top;\n",
       "    }\n",
       "\n",
       "    .dataframe thead th {\n",
       "        text-align: right;\n",
       "    }\n",
       "</style>\n",
       "<table border=\"1\" class=\"dataframe\">\n",
       "  <thead>\n",
       "    <tr style=\"text-align: right;\">\n",
       "      <th></th>\n",
       "      <th>Product ID</th>\n",
       "      <th>Product Name</th>\n",
       "      <th>Brand</th>\n",
       "      <th>Category</th>\n",
       "      <th>Color</th>\n",
       "      <th>Size</th>\n",
       "      <th>Content</th>\n",
       "    </tr>\n",
       "  </thead>\n",
       "  <tbody>\n",
       "    <tr>\n",
       "      <th>0</th>\n",
       "      <td>1</td>\n",
       "      <td>Dress</td>\n",
       "      <td>Adidas</td>\n",
       "      <td>Men's Fashion</td>\n",
       "      <td>Black</td>\n",
       "      <td>XL</td>\n",
       "      <td>1 Dress Adidas Men's Fashion Black XL</td>\n",
       "    </tr>\n",
       "    <tr>\n",
       "      <th>1</th>\n",
       "      <td>2</td>\n",
       "      <td>Shoes</td>\n",
       "      <td>H&amp;M</td>\n",
       "      <td>Women's Fashion</td>\n",
       "      <td>Black</td>\n",
       "      <td>L</td>\n",
       "      <td>2 Shoes H&amp;M Women's Fashion Black L</td>\n",
       "    </tr>\n",
       "    <tr>\n",
       "      <th>2</th>\n",
       "      <td>3</td>\n",
       "      <td>Dress</td>\n",
       "      <td>Adidas</td>\n",
       "      <td>Women's Fashion</td>\n",
       "      <td>Yellow</td>\n",
       "      <td>XL</td>\n",
       "      <td>3 Dress Adidas Women's Fashion Yellow XL</td>\n",
       "    </tr>\n",
       "    <tr>\n",
       "      <th>3</th>\n",
       "      <td>4</td>\n",
       "      <td>Shoes</td>\n",
       "      <td>Zara</td>\n",
       "      <td>Men's Fashion</td>\n",
       "      <td>White</td>\n",
       "      <td>S</td>\n",
       "      <td>4 Shoes Zara Men's Fashion White S</td>\n",
       "    </tr>\n",
       "    <tr>\n",
       "      <th>4</th>\n",
       "      <td>5</td>\n",
       "      <td>T-shirt</td>\n",
       "      <td>Adidas</td>\n",
       "      <td>Men's Fashion</td>\n",
       "      <td>Black</td>\n",
       "      <td>M</td>\n",
       "      <td>5 T-shirt Adidas Men's Fashion Black M</td>\n",
       "    </tr>\n",
       "  </tbody>\n",
       "</table>\n",
       "</div>"
      ],
      "text/plain": [
       "   Product ID Product Name   Brand         Category   Color Size  \\\n",
       "0           1        Dress  Adidas    Men's Fashion   Black   XL   \n",
       "1           2        Shoes     H&M  Women's Fashion   Black    L   \n",
       "2           3        Dress  Adidas  Women's Fashion  Yellow   XL   \n",
       "3           4        Shoes    Zara    Men's Fashion   White    S   \n",
       "4           5      T-shirt  Adidas    Men's Fashion   Black    M   \n",
       "\n",
       "                                    Content  \n",
       "0     1 Dress Adidas Men's Fashion Black XL  \n",
       "1       2 Shoes H&M Women's Fashion Black L  \n",
       "2  3 Dress Adidas Women's Fashion Yellow XL  \n",
       "3        4 Shoes Zara Men's Fashion White S  \n",
       "4    5 T-shirt Adidas Men's Fashion Black M  "
      ]
     },
     "execution_count": 3,
     "metadata": {},
     "output_type": "execute_result"
    }
   ],
   "source": [
    "content_df = data[['Product ID', 'Product Name', 'Brand', 'Category', 'Color', 'Size']]\n",
    "content_df['Content'] = content_df.apply(lambda row: ' '.join(row.dropna().astype(str)), axis=1)\n",
    "content_df.head()"
   ]
  },
  {
   "attachments": {},
   "cell_type": "markdown",
   "metadata": {},
   "source": [
    "Use TF-IDF vectorizer to convert content into a matrix of TF_IDF features"
   ]
  },
  {
   "cell_type": "code",
   "execution_count": 4,
   "metadata": {},
   "outputs": [],
   "source": [
    "tfidf_vectorizer = TfidfVectorizer()\n",
    "content_matrix = tfidf_vectorizer.fit_transform(content_df['Content'])"
   ]
  },
  {
   "attachments": {},
   "cell_type": "markdown",
   "metadata": {},
   "source": [
    "Now we calculate the similarity between the products based on their content using the cosine similarity measure. <br>\n",
    "This similarity matrix captures the similarity between each pair of products on their content."
   ]
  },
  {
   "cell_type": "code",
   "execution_count": 5,
   "metadata": {},
   "outputs": [],
   "source": [
    "content_similarity = linear_kernel(content_matrix, content_matrix)"
   ]
  },
  {
   "cell_type": "code",
   "execution_count": 6,
   "metadata": {},
   "outputs": [],
   "source": [
    "reader = Reader(rating_scale=(1, 5))\n",
    "data = Dataset.load_from_df(data[['User ID', 'Product ID', 'Rating']], reader)"
   ]
  },
  {
   "attachments": {},
   "cell_type": "markdown",
   "metadata": {},
   "source": [
    "To get content-based recommendations, we first found the index of the target product in the similarity matrix. Then we sorted the similarity scores in descending order and selected the top N similar products. Finally, we returned the product IDs of the recommended products."
   ]
  },
  {
   "cell_type": "code",
   "execution_count": 7,
   "metadata": {},
   "outputs": [],
   "source": [
    "def get_content_based_recommendations(product_id, top_n):\n",
    "    \"\"\"_summary_\n",
    "\n",
    "    Args:\n",
    "        prodcut_id (_type_): _description_\n",
    "        top_n (_type_): _description_\n",
    "    \"\"\"\n",
    "    index = content_df[content_df['Product ID'] == product_id].index[0]\n",
    "    similarity_scores = content_similarity[index]\n",
    "    similarity_indices = similarity_scores.argsort()[::-1][1:top_n+1]\n",
    "    recommendations = content_df.loc[similarity_indices, 'Product ID'].values\n",
    "    \n",
    "    return recommendations"
   ]
  },
  {
   "attachments": {},
   "cell_type": "markdown",
   "metadata": {},
   "source": [
    "### Collaborative Filtering"
   ]
  },
  {
   "attachments": {},
   "cell_type": "markdown",
   "metadata": {},
   "source": [
    "We are implementing this filtering using the SVD (Singular Value Decomposition) algorithm."
   ]
  },
  {
   "attachments": {},
   "cell_type": "markdown",
   "metadata": {},
   "source": [
    "First, we initialized the SVD algorithm and trained it on the dataset. This step involves **decomposing the user element rating matrix to capture the underlying patterns and laten factors that drive user preferences.**"
   ]
  },
  {
   "cell_type": "code",
   "execution_count": 8,
   "metadata": {},
   "outputs": [
    {
     "data": {
      "text/plain": [
       "<surprise.prediction_algorithms.matrix_factorization.SVD at 0x20c96f16350>"
      ]
     },
     "execution_count": 8,
     "metadata": {},
     "output_type": "execute_result"
    }
   ],
   "source": [
    "algo = SVD()\n",
    "trainset = data.build_full_trainset()\n",
    "algo.fit(trainset)"
   ]
  },
  {
   "attachments": {},
   "cell_type": "markdown",
   "metadata": {},
   "source": [
    "To generate collaborative filtering recommendations, we are creating a test set composed of user-item pairs that we not present in the training set and we filter this test set to only include items belonging to the target user specified by user_id. <br>\n",
    "<br>\n",
    "Next, we use trained SVD model to predict the test set item ratings. These predictions represent the estimated ratings that the user would assign to the items."
   ]
  },
  {
   "cell_type": "code",
   "execution_count": 9,
   "metadata": {},
   "outputs": [],
   "source": [
    "def get_collaborative_filtering_recommendations(user_id, top_n):\n",
    "    \"\"\"_summary_\n",
    "\n",
    "    Args:\n",
    "        user_id (_type_): _description_\n",
    "        top_n (_type_): _description_\n",
    "    \"\"\"\n",
    "    testset = trainset.build_anti_testset()\n",
    "    testset = filter(lambda x: x[0]== user_id, testset)\n",
    "    \n",
    "    predictions = algo.test(testset)\n",
    "    predictions.sort(key= lambda x: x.est, reverse= True)\n",
    "    \n",
    "    recommendations = [prediction.iid for prediction in predictions[:top_n]]\n",
    "    \n",
    "    return recommendations"
   ]
  },
  {
   "attachments": {},
   "cell_type": "markdown",
   "metadata": {},
   "source": [
    "### Finally, The Hybrid Approach"
   ]
  },
  {
   "cell_type": "code",
   "execution_count": 10,
   "metadata": {},
   "outputs": [],
   "source": [
    "def get_hybrid_recommendations(user_id, product_id, top_n):\n",
    "    \"\"\"_summary_\n",
    "\n",
    "    Args:\n",
    "        user_id (_type_): _description_\n",
    "        product_id (_type_): _description_\n",
    "        top_n (_type_): _description_\n",
    "    \"\"\"\n",
    "    \n",
    "    content_based_recommendations = get_content_based_recommendations(product_id, top_n)\n",
    "    collaborative_filtering_recommendations = get_collaborative_filtering_recommendations(user_id, top_n)\n",
    "    \n",
    "    hybrid_recommendations = list(set(content_based_recommendations + collaborative_filtering_recommendations))\n",
    "    \n",
    "    return hybrid_recommendations[:top_n]"
   ]
  },
  {
   "attachments": {},
   "cell_type": "markdown",
   "metadata": {},
   "source": [
    "Here's how to the output of the hybrid recommendations system based on the product that a user in viewing."
   ]
  },
  {
   "cell_type": "code",
   "execution_count": 11,
   "metadata": {},
   "outputs": [
    {
     "name": "stdout",
     "output_type": "stream",
     "text": [
      "Hybrid Recommendations for User 6 based on Product 11:\n",
      "1. Product ID: 1121\n",
      "2. Product ID: 975\n",
      "3. Product ID: 912\n",
      "4. Product ID: 792\n",
      "5. Product ID: 1362\n",
      "6. Product ID: 1301\n",
      "7. Product ID: 502\n",
      "8. Product ID: 726\n",
      "9. Product ID: 1112\n",
      "10. Product ID: 1402\n"
     ]
    }
   ],
   "source": [
    "user_id = 6\n",
    "product_id = 11\n",
    "top_n = 10\n",
    "recommendations = get_hybrid_recommendations(user_id, product_id, top_n)\n",
    "\n",
    "print(f\"Hybrid Recommendations for User {user_id} based on Product {product_id}:\")\n",
    "for i, recommendation in enumerate(recommendations):\n",
    "    print(f\"{i+1}. Product ID: {recommendation}\")"
   ]
  },
  {
   "cell_type": "code",
   "execution_count": null,
   "metadata": {},
   "outputs": [],
   "source": []
  }
 ],
 "metadata": {
  "kernelspec": {
   "display_name": "dsenv",
   "language": "python",
   "name": "python3"
  },
  "language_info": {
   "codemirror_mode": {
    "name": "ipython",
    "version": 3
   },
   "file_extension": ".py",
   "mimetype": "text/x-python",
   "name": "python",
   "nbconvert_exporter": "python",
   "pygments_lexer": "ipython3",
   "version": "3.11.4"
  },
  "orig_nbformat": 4
 },
 "nbformat": 4,
 "nbformat_minor": 2
}
